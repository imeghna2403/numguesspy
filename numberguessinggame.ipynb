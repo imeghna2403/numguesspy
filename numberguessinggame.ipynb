{
  "nbformat": 4,
  "nbformat_minor": 0,
  "metadata": {
    "colab": {
      "name": "numberguessinggame.ipynb",
      "provenance": []
    },
    "kernelspec": {
      "name": "python3",
      "display_name": "Python 3"
    },
    "language_info": {
      "name": "python"
    }
  },
  "cells": [
    {
      "cell_type": "markdown",
      "source": [
        "# **PYTHON NUMBER GUESSING GAME**"
      ],
      "metadata": {
        "id": "fYVEHWGnqJLe"
      }
    },
    {
      "cell_type": "code",
      "source": [
        "import random\n",
        "\n",
        "\n",
        "print(\"\\t\\t\\t\\t\\t\\t\\t\\t\\t\\tWELCOME TO THE NUMBER GUESSING GAME\")\n",
        "print(\"INSTRUCTIONS : Enter any no. between 0 and 100. A correct guess will increase the score by 10 and every incorrect guess will decrease the score by 2.\")\n",
        "print(\"NO. OF ATTEMPTS : 5\")\n",
        "attempts=5\n",
        "score=10\n",
        "print(\"SCORE : \"+str(score))\n",
        "\n",
        "r=random.randint(0,100)\n",
        "\n",
        "while(attempts>0):\n",
        "    print(\"_____________________________________________________\")\n",
        "    guess=input(\"Enter your Guess Number : \")\n",
        "    \n",
        "    if(r == guess):\n",
        "        print(\"CONGRATULATIONS, you have won. \"+str(r)+\" is the correct number.\")\n",
        "        score=score+10\n",
        "        print(\"Score : \"+str(score))\n",
        "        break\n",
        "    elif(int(r) > int(guess)):\n",
        "        print(\"Sorry, Incorrect Guess!\")\n",
        "        score=score-2\n",
        "        attempts=attempts-1\n",
        "        print(\"Score : \"+str(score))\n",
        "        print(\"Attempts left : \"+str(attempts))\n",
        "        print(\"Hint : Enter a number greater than previous guess.\")\n",
        "    elif(int(r) < int(guess)):\n",
        "        print(\"Sorry, Incorrect Guess!\")\n",
        "        score=score-2\n",
        "        attempts=attempts-1\n",
        "        print(\"Score : \"+str(score))\n",
        "        print(\"Attempts left : \"+str(attempts))\n",
        "        print(\"Hint : Enter a number smaller than previous guess.\")\n",
        "        \n",
        "        \n",
        "        print(\"_____________________________________________________\")\n",
        "\n",
        "print(\"You are out of attempts.Better luck next time.\")    \n",
        "\n",
        "    \n"
      ],
      "metadata": {
        "colab": {
          "base_uri": "https://localhost:8080/"
        },
        "id": "lD8FGY295aHz",
        "outputId": "889803f1-28de-4fe2-f13b-b70c8f358d4d"
      },
      "execution_count": 7,
      "outputs": [
        {
          "output_type": "stream",
          "name": "stdout",
          "text": [
            "\t\t\t\t\t\tWELCOME TO THE NUMBER GUESSING GAME\n",
            "INSTRUCTIONS : Enter any no. between 0 and 100. A correct guess will increase the score by 10 and every incorrect guess will decrease the score by 2.\n",
            "NO. OF ATTEMPTS : 5\n",
            "SCORE : 10\n",
            "_____________________________________________________\n",
            "Enter your Guess Number : 65\n",
            "Sorry, Incorrect Guess!\n",
            "Score : 8\n",
            "Attempts left : 4\n",
            "Hint : Enter a number smaller than previous guess.\n",
            "_____________________________________________________\n",
            "_____________________________________________________\n",
            "Enter your Guess Number : 50\n",
            "Sorry, Incorrect Guess!\n",
            "Score : 6\n",
            "Attempts left : 3\n",
            "Hint : Enter a number smaller than previous guess.\n",
            "_____________________________________________________\n",
            "_____________________________________________________\n",
            "Enter your Guess Number : 30\n",
            "Sorry, Incorrect Guess!\n",
            "Score : 4\n",
            "Attempts left : 2\n",
            "Hint : Enter a number smaller than previous guess.\n",
            "_____________________________________________________\n",
            "_____________________________________________________\n",
            "Enter your Guess Number : 20\n",
            "Sorry, Incorrect Guess!\n",
            "Score : 2\n",
            "Attempts left : 1\n",
            "Hint : Enter a number smaller than previous guess.\n",
            "_____________________________________________________\n",
            "_____________________________________________________\n",
            "Enter your Guess Number : 8\n",
            "Sorry, Incorrect Guess!\n",
            "Score : 0\n",
            "Attempts left : 0\n",
            "Hint : Enter a number smaller than previous guess.\n",
            "_____________________________________________________\n",
            "You are out of attempts.Better luck next time.\n"
          ]
        }
      ]
    }
  ]
}